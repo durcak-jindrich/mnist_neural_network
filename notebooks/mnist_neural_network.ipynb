{
 "cells": [
  {
   "cell_type": "markdown",
   "metadata": {},
   "source": [
    "### Convolutional neural network for MNIST classification\n",
    "The task is to classify MNIST dataset, series of grey-scale images with resolution 28x28 pixels (784 features). While this resolution is manageable in classic feedforward neural network architecture with 784 input neurons, most images have way more pixels and 3 color channels. For example 4K Ultra HD resolution is 3840 x 2160 x 3 channels, which would be 24 883 200 different neurons. Regular networks are therefore not scaleable for image classificaton.  \n",
    "Fortunately, there is little correlation between 2 pixels in picture unless the pixels are very close to each other. The fully connected architecture is therefore not necessary and it leads us to the idea of convolutional and pooling layers.\n",
    "#### Convolutional layer\n",
    "This layer is the first one that extracts features from images via convolution - it preserves the relationships between different parts of an image, while filtering the image with a smaller pixel filter to decrease the resolution. When we apply a 4x4 filter on a 7x7 image, we will get 4x4 output, which is 67% decrease in number of pixels.\n",
    "#### Pooling layer\n",
    "Pooling layer is usually inserted after a convolutional layer to reduce the spatial size of the representation, which reduces the parameter counts and overall computational complexity. A pooling size is selected (e.g. 2x2) and then a maximum / average / sum is calculated for window of pixels.\n",
    "#### Fully connected layers\n",
    "This is the architecture of classic neural network, where each parameter is linked to one another. The output of last pooling layer is the input for fully connected layers.  \n",
    "<figure>\n",
    "    <img src=\"images/convolutional_architecture.jpeg\" width=\"80%\"/>\n",
    "    <figcaption>Convolutional network architecture. MathWorks, Introducing Deep Learning with MATLAB, https://www.mathworks.com/content/dam/mathworks/tag-team/Objects/d/80879v00_Deep_Learning_ebook.pdf</figcaption>\n",
    "</figure>"
   ]
  },
  {
   "cell_type": "markdown",
   "metadata": {},
   "source": [
    "### package imports, data loading, image plotting"
   ]
  },
  {
   "cell_type": "code",
   "execution_count": 3,
   "metadata": {},
   "outputs": [
    {
     "name": "stderr",
     "output_type": "stream",
     "text": [
      "Using TensorFlow backend.\n"
     ]
    },
    {
     "name": "stdout",
     "output_type": "stream",
     "text": [
      "x_train type: <class 'numpy.ndarray'>\n",
      "y_train type: <class 'numpy.ndarray'>\n",
      "x_train original shape: (60000, 28, 28)\n",
      "y_train original shape: (60000,)\n"
     ]
    }
   ],
   "source": [
    "import tensorflow as tf\n",
    "import matplotlib.pyplot as plt\n",
    "from keras.models import Sequential\n",
    "from keras.layers import Dense, Conv2D, Dropout, Flatten, MaxPooling2D\n",
    "\n",
    "(x_train, y_train), (x_test, y_test) = tf.keras.datasets.mnist.load_data()\n",
    "print(\"x_train type: {}\".format(type(x_train)))\n",
    "print(\"y_train type: {}\".format(type(y_train)))\n",
    "print(\"x_train original shape: {}\".format(x_train.shape))\n",
    "print(\"y_train original shape: {}\".format(y_train.shape))"
   ]
  },
  {
   "cell_type": "code",
   "execution_count": 4,
   "metadata": {},
   "outputs": [],
   "source": [
    "#solve kernel problems during training of CNN\n",
    "import os\n",
    "os.environ['KMP_DUPLICATE_LIB_OK']='True'"
   ]
  },
  {
   "cell_type": "code",
   "execution_count": 5,
   "metadata": {},
   "outputs": [
    {
     "data": {
      "image/png": "[encoded data removed]",
      "text/plain": [
       "<Figure size 1152x360 with 5 Axes>"
      ]
     },
     "metadata": {},
     "output_type": "display_data"
    }
   ],
   "source": [
    "#plot several images from the train set\n",
    "plt.figure(figsize=(16,5))\n",
    "picture_indeces = [444,666,7788,13987,33145]\n",
    "for i in range(len(picture_indeces)):\n",
    "    ax = plt.subplot(1,len(picture_indeces),i+1)\n",
    "    image_index = picture_indeces[i]\n",
    "    plt.imshow(x_train[image_index], cmap='Greys')\n",
    "    #don't show ticks and labels\n",
    "    plt.tick_params(axis='x',which='both', bottom=False, labelbottom=False)\n",
    "    plt.tick_params(axis='y',which='both', left=False, labelleft=False)\n",
    "    plt.title(\"Image label: \\\"{}\\\"\".format(y_train[image_index]))"
   ]
  },
  {
   "cell_type": "markdown",
   "metadata": {},
   "source": [
    "### data prepropcessing - reshaping, normalization\n",
    "Keras API accepts 4-dims numpy arrays, MNIST has 3-dims. Data for all neural network models needs to be normalized."
   ]
  },
  {
   "cell_type": "code",
   "execution_count": 6,
   "metadata": {},
   "outputs": [
    {
     "name": "stdout",
     "output_type": "stream",
     "text": [
      "x_train shape: (60000, 28, 28, 1)\n",
      "x_test shape: (10000, 28, 28, 1)\n"
     ]
    }
   ],
   "source": [
    "x_train = x_train.reshape(x_train.shape[0], 28, 28, 1)\n",
    "x_test = x_test.reshape(x_test.shape[0], 28, 28, 1)\n",
    "input_shape = (28, 28, 1)\n",
    "x_train = x_train.astype('float32')\n",
    "x_test = x_test.astype('float32')\n",
    "x_train /= 255\n",
    "x_test /= 255\n",
    "print(\"x_train shape: {}\".format(x_train.shape))\n",
    "print(\"x_test shape: {}\".format(x_test.shape))"
   ]
  },
  {
   "cell_type": "markdown",
   "metadata": {},
   "source": [
    "### convolutional network implementation"
   ]
  },
  {
   "cell_type": "markdown",
   "metadata": {},
   "source": [
    "It is always possible to experiment with kernel size, pool size, activation functions, dropout rate, and number of neurons in the first Dense layer to get a better result. The shape of input layer and number of neurons in output layer is determined by our dataset."
   ]
  },
  {
   "cell_type": "code",
   "execution_count": 7,
   "metadata": {},
   "outputs": [
    {
     "name": "stdout",
     "output_type": "stream",
     "text": [
      "WARNING:tensorflow:From /anaconda3/envs/mnist_nn/lib/python3.7/site-packages/tensorflow/python/framework/op_def_library.py:263: colocate_with (from tensorflow.python.framework.ops) is deprecated and will be removed in a future version.\n",
      "Instructions for updating:\n",
      "Colocations handled automatically by placer.\n",
      "WARNING:tensorflow:From /anaconda3/envs/mnist_nn/lib/python3.7/site-packages/keras/backend/tensorflow_backend.py:3445: calling dropout (from tensorflow.python.ops.nn_ops) with keep_prob is deprecated and will be removed in a future version.\n",
      "Instructions for updating:\n",
      "Please use `rate` instead of `keep_prob`. Rate should be set to `rate = 1 - keep_prob`.\n"
     ]
    }
   ],
   "source": [
    "cnn = Sequential()\n",
    "cnn.add(Conv2D(28, kernel_size=(3,3), input_shape=input_shape)) #convolutional layer\n",
    "cnn.add(MaxPooling2D(pool_size=(2, 2)))                         #pooling layer\n",
    "cnn.add(Flatten())                                              #flattening for fully connected layer\n",
    "cnn.add(Dense(128, activation=tf.nn.relu))                      #fully connected layer with ReLU activation function (128 neurons, but this number can be tuned)\n",
    "cnn.add(Dropout(0.2))                                           #disregard selected neurons to fight overfitting\n",
    "cnn.add(Dense(10,activation=tf.nn.softmax))                     #softmax output layer (10 classes in MNIST means that there need to be 10 neurons)"
   ]
  },
  {
   "cell_type": "markdown",
   "metadata": {},
   "source": [
    "Optimizer, loss function, metrics and epochs can also be tuned. Other optimizers are usually outperformed by _adam_ optimizer. "
   ]
  },
  {
   "cell_type": "code",
   "execution_count": 8,
   "metadata": {},
   "outputs": [
    {
     "name": "stdout",
     "output_type": "stream",
     "text": [
      "WARNING:tensorflow:From /anaconda3/envs/mnist_nn/lib/python3.7/site-packages/tensorflow/python/ops/math_ops.py:3066: to_int32 (from tensorflow.python.ops.math_ops) is deprecated and will be removed in a future version.\n",
      "Instructions for updating:\n",
      "Use tf.cast instead.\n",
      "Epoch 1/10\n",
      "60000/60000 [==============================] - 126s 2ms/step - loss: 0.2047 - acc: 0.9376\n",
      "Epoch 2/10\n",
      "60000/60000 [==============================] - 121s 2ms/step - loss: 0.0841 - acc: 0.9745\n",
      "Epoch 3/10\n",
      "60000/60000 [==============================] - 122s 2ms/step - loss: 0.0600 - acc: 0.9817\n",
      "Epoch 4/10\n",
      "60000/60000 [==============================] - 122s 2ms/step - loss: 0.0467 - acc: 0.9852\n",
      "Epoch 5/10\n",
      "60000/60000 [==============================] - 121s 2ms/step - loss: 0.0362 - acc: 0.9874\n",
      "Epoch 6/10\n",
      "60000/60000 [==============================] - 123s 2ms/step - loss: 0.0312 - acc: 0.9895\n",
      "Epoch 7/10\n",
      "60000/60000 [==============================] - 126s 2ms/step - loss: 0.0273 - acc: 0.9909\n",
      "Epoch 8/10\n",
      "60000/60000 [==============================] - 124s 2ms/step - loss: 0.0235 - acc: 0.9918\n",
      "Epoch 9/10\n",
      "60000/60000 [==============================] - 131s 2ms/step - loss: 0.0205 - acc: 0.9929\n",
      "Epoch 10/10\n",
      "60000/60000 [==============================] - 128s 2ms/step - loss: 0.0198 - acc: 0.9932\n"
     ]
    },
    {
     "data": {
      "text/plain": [
       "<keras.callbacks.History at 0x10b892080>"
      ]
     },
     "execution_count": 8,
     "metadata": {},
     "output_type": "execute_result"
    }
   ],
   "source": [
    "cnn.compile(optimizer='adam', \n",
    "            loss='sparse_categorical_crossentropy', \n",
    "            metrics=['accuracy'])\n",
    "cnn.fit(x=x_train,y=y_train, epochs=10)"
   ]
  },
  {
   "cell_type": "code",
   "execution_count": 9,
   "metadata": {},
   "outputs": [
    {
     "name": "stdout",
     "output_type": "stream",
     "text": [
      "10000/10000 [==============================] - 10s 970us/step\n"
     ]
    },
    {
     "data": {
      "text/plain": [
       "[0.06352144173665401, 0.9843]"
      ]
     },
     "execution_count": 9,
     "metadata": {},
     "output_type": "execute_result"
    }
   ],
   "source": [
    "cnn.evaluate(x_test, y_test)"
   ]
  },
  {
   "cell_type": "markdown",
   "metadata": {},
   "source": [
    "Even after only 10 epochs, the model has accuracy of 98.43%"
   ]
  },
  {
   "cell_type": "markdown",
   "metadata": {},
   "source": [
    "#### model saving\n",
    "It is not recommended to use pickle or cPickle to save a Keras model. Use `model.save(filepath)` to save a Keras model into a single HDF5 file which will contain:\n",
    "- the architecture of the model, allowing to re-create the model\n",
    "- the weights of the model\n",
    "- the training configuration (loss, optimizer)\n",
    "- the state of the optimizer, allowing to resume training exactly where you left off."
   ]
  },
  {
   "cell_type": "code",
   "execution_count": 10,
   "metadata": {},
   "outputs": [],
   "source": [
    "cnn.save('cnn_model.h5')"
   ]
  },
  {
   "cell_type": "code",
   "execution_count": 12,
   "metadata": {},
   "outputs": [],
   "source": [
    "# from keras.models import load_model\n",
    "# loaded_model = load_model('cnn_model.h5')\n",
    "# loaded_model.evaluate(x_test, y_test)"
   ]
  }
 ],
 "metadata": {
  "kernelspec": {
   "display_name": "Python 3",
   "language": "python",
   "name": "python3"
  },
  "language_info": {
   "codemirror_mode": {
    "name": "ipython",
    "version": 3
   },
   "file_extension": ".py",
   "mimetype": "text/x-python",
   "name": "python",
   "nbconvert_exporter": "python",
   "pygments_lexer": "ipython3",
   "version": "3.7.3"
  }
 },
 "nbformat": 4,
 "nbformat_minor": 4
}
